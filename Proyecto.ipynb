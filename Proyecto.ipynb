{
 "nbformat": 4,
 "nbformat_minor": 0,
 "metadata": {
  "colab": {
   "provenance": []
  },
  "kernelspec": {
   "name": "python3",
   "language": "python",
   "display_name": "Python 3 (ipykernel)"
  },
  "language_info": {
   "name": "python"
  }
 },
 "cells": [
  {
   "cell_type": "code",
   "execution_count": 7,
   "metadata": {
    "id": "-b4MX9I5rEjR",
    "ExecuteTime": {
     "end_time": "2023-11-13T13:30:34.855872900Z",
     "start_time": "2023-11-13T13:30:31.636339900Z"
    }
   },
   "outputs": [
    {
     "name": "stdout",
     "output_type": "stream",
     "text": [
      "Defaulting to user installation because normal site-packages is not writeable\n",
      "Requirement already satisfied: pymupdf in c:\\users\\jose6\\appdata\\roaming\\python\\python310\\site-packages (1.23.5)\n",
      "Requirement already satisfied: pandas in c:\\users\\jose6\\appdata\\roaming\\python\\python310\\site-packages (1.5.3)\n",
      "Requirement already satisfied: openpyxl in c:\\users\\jose6\\appdata\\roaming\\python\\python310\\site-packages (3.1.2)\n",
      "Requirement already satisfied: tensorflow in c:\\users\\jose6\\appdata\\roaming\\python\\python310\\site-packages (2.10.1)\n",
      "Requirement already satisfied: tensorflow_hub in c:\\users\\jose6\\appdata\\roaming\\python\\python310\\site-packages (0.15.0)\n",
      "Requirement already satisfied: tensorflow-text in c:\\users\\jose6\\appdata\\roaming\\python\\python310\\site-packages (2.10.0)\n",
      "Requirement already satisfied: spacy in c:\\users\\jose6\\appdata\\roaming\\python\\python310\\site-packages (3.7.2)\n",
      "Requirement already satisfied: classy-classification in c:\\users\\jose6\\appdata\\roaming\\python\\python310\\site-packages (0.6.7)\n",
      "Requirement already satisfied: PyMuPDFb==1.23.5 in c:\\users\\jose6\\appdata\\roaming\\python\\python310\\site-packages (from pymupdf) (1.23.5)\n",
      "Requirement already satisfied: numpy>=1.21.0 in c:\\users\\jose6\\appdata\\roaming\\python\\python310\\site-packages (from pandas) (1.26.1)\n",
      "Requirement already satisfied: python-dateutil>=2.8.1 in c:\\program files\\python310\\lib\\site-packages (from pandas) (2.8.2)\n",
      "Requirement already satisfied: pytz>=2020.1 in c:\\users\\jose6\\appdata\\roaming\\python\\python310\\site-packages (from pandas) (2023.3.post1)\n",
      "Requirement already satisfied: et-xmlfile in c:\\users\\jose6\\appdata\\roaming\\python\\python310\\site-packages (from openpyxl) (1.1.0)\n",
      "Requirement already satisfied: h5py>=2.9.0 in c:\\users\\jose6\\appdata\\roaming\\python\\python310\\site-packages (from tensorflow) (3.10.0)\n",
      "Requirement already satisfied: typing-extensions>=3.6.6 in c:\\program files\\python310\\lib\\site-packages (from tensorflow) (4.8.0)\n",
      "Requirement already satisfied: tensorboard<2.11,>=2.10 in c:\\users\\jose6\\appdata\\roaming\\python\\python310\\site-packages (from tensorflow) (2.10.1)\n",
      "Requirement already satisfied: libclang>=13.0.0 in c:\\users\\jose6\\appdata\\roaming\\python\\python310\\site-packages (from tensorflow) (16.0.6)\n",
      "Requirement already satisfied: six>=1.12.0 in c:\\program files\\python310\\lib\\site-packages (from tensorflow) (1.16.0)\n",
      "Requirement already satisfied: absl-py>=1.0.0 in c:\\users\\jose6\\appdata\\roaming\\python\\python310\\site-packages (from tensorflow) (2.0.0)\n",
      "Requirement already satisfied: opt-einsum>=2.3.2 in c:\\users\\jose6\\appdata\\roaming\\python\\python310\\site-packages (from tensorflow) (3.3.0)\n",
      "Requirement already satisfied: keras<2.11,>=2.10.0 in c:\\users\\jose6\\appdata\\roaming\\python\\python310\\site-packages (from tensorflow) (2.10.0)\n",
      "Requirement already satisfied: tensorflow-estimator<2.11,>=2.10.0 in c:\\users\\jose6\\appdata\\roaming\\python\\python310\\site-packages (from tensorflow) (2.10.0)\n",
      "Requirement already satisfied: flatbuffers>=2.0 in c:\\users\\jose6\\appdata\\roaming\\python\\python310\\site-packages (from tensorflow) (23.5.26)\n",
      "Requirement already satisfied: wrapt>=1.11.0 in c:\\users\\jose6\\appdata\\roaming\\python\\python310\\site-packages (from tensorflow) (1.15.0)\n",
      "Requirement already satisfied: protobuf<3.20,>=3.9.2 in c:\\users\\jose6\\appdata\\roaming\\python\\python310\\site-packages (from tensorflow) (3.19.6)\n",
      "Requirement already satisfied: packaging in c:\\program files\\python310\\lib\\site-packages (from tensorflow) (23.2)\n",
      "Requirement already satisfied: setuptools in c:\\program files\\python310\\lib\\site-packages (from tensorflow) (65.5.0)\n",
      "Requirement already satisfied: keras-preprocessing>=1.1.1 in c:\\users\\jose6\\appdata\\roaming\\python\\python310\\site-packages (from tensorflow) (1.1.2)\n",
      "Requirement already satisfied: termcolor>=1.1.0 in c:\\users\\jose6\\appdata\\roaming\\python\\python310\\site-packages (from tensorflow) (2.3.0)\n",
      "Requirement already satisfied: gast<=0.4.0,>=0.2.1 in c:\\users\\jose6\\appdata\\roaming\\python\\python310\\site-packages (from tensorflow) (0.4.0)\n",
      "Requirement already satisfied: tensorflow-io-gcs-filesystem>=0.23.1 in c:\\users\\jose6\\appdata\\roaming\\python\\python310\\site-packages (from tensorflow) (0.31.0)\n",
      "Requirement already satisfied: google-pasta>=0.1.1 in c:\\users\\jose6\\appdata\\roaming\\python\\python310\\site-packages (from tensorflow) (0.2.0)\n",
      "Requirement already satisfied: astunparse>=1.6.0 in c:\\users\\jose6\\appdata\\roaming\\python\\python310\\site-packages (from tensorflow) (1.6.3)\n",
      "Requirement already satisfied: grpcio<2.0,>=1.24.3 in c:\\users\\jose6\\appdata\\roaming\\python\\python310\\site-packages (from tensorflow) (1.59.2)\n",
      "Requirement already satisfied: tqdm<5.0.0,>=4.38.0 in c:\\users\\jose6\\appdata\\roaming\\python\\python310\\site-packages (from spacy) (4.66.1)\n",
      "Requirement already satisfied: typer<0.10.0,>=0.3.0 in c:\\users\\jose6\\appdata\\roaming\\python\\python310\\site-packages (from spacy) (0.9.0)\n",
      "Requirement already satisfied: catalogue<2.1.0,>=2.0.6 in c:\\users\\jose6\\appdata\\roaming\\python\\python310\\site-packages (from spacy) (2.0.10)\n",
      "Requirement already satisfied: pydantic!=1.8,!=1.8.1,<3.0.0,>=1.7.4 in c:\\users\\jose6\\appdata\\roaming\\python\\python310\\site-packages (from spacy) (2.4.2)\n",
      "Requirement already satisfied: srsly<3.0.0,>=2.4.3 in c:\\users\\jose6\\appdata\\roaming\\python\\python310\\site-packages (from spacy) (2.4.8)\n",
      "Requirement already satisfied: thinc<8.3.0,>=8.1.8 in c:\\users\\jose6\\appdata\\roaming\\python\\python310\\site-packages (from spacy) (8.2.1)\n",
      "Requirement already satisfied: wasabi<1.2.0,>=0.9.1 in c:\\users\\jose6\\appdata\\roaming\\python\\python310\\site-packages (from spacy) (1.1.2)\n",
      "Requirement already satisfied: weasel<0.4.0,>=0.1.0 in c:\\users\\jose6\\appdata\\roaming\\python\\python310\\site-packages (from spacy) (0.3.3)\n",
      "Requirement already satisfied: preshed<3.1.0,>=3.0.2 in c:\\users\\jose6\\appdata\\roaming\\python\\python310\\site-packages (from spacy) (3.0.9)\n",
      "Requirement already satisfied: smart-open<7.0.0,>=5.2.1 in c:\\users\\jose6\\appdata\\roaming\\python\\python310\\site-packages (from spacy) (6.4.0)\n",
      "Requirement already satisfied: jinja2 in c:\\program files\\python310\\lib\\site-packages (from spacy) (3.1.2)\n",
      "Requirement already satisfied: cymem<2.1.0,>=2.0.2 in c:\\users\\jose6\\appdata\\roaming\\python\\python310\\site-packages (from spacy) (2.0.8)\n",
      "Requirement already satisfied: murmurhash<1.1.0,>=0.28.0 in c:\\users\\jose6\\appdata\\roaming\\python\\python310\\site-packages (from spacy) (1.0.10)\n",
      "Requirement already satisfied: spacy-legacy<3.1.0,>=3.0.11 in c:\\users\\jose6\\appdata\\roaming\\python\\python310\\site-packages (from spacy) (3.0.12)\n",
      "Requirement already satisfied: spacy-loggers<2.0.0,>=1.0.0 in c:\\users\\jose6\\appdata\\roaming\\python\\python310\\site-packages (from spacy) (1.0.5)\n",
      "Requirement already satisfied: requests<3.0.0,>=2.13.0 in c:\\program files\\python310\\lib\\site-packages (from spacy) (2.31.0)\n",
      "Requirement already satisfied: langcodes<4.0.0,>=3.2.0 in c:\\users\\jose6\\appdata\\roaming\\python\\python310\\site-packages (from spacy) (3.3.0)\n",
      "Requirement already satisfied: sentence-transformers<3.0,>=2.0 in c:\\users\\jose6\\appdata\\roaming\\python\\python310\\site-packages (from classy-classification) (2.2.2)\n",
      "Requirement already satisfied: transformers[torch]>4.20 in c:\\users\\jose6\\appdata\\roaming\\python\\python310\\site-packages (from classy-classification) (4.34.1)\n",
      "Requirement already satisfied: scikit-learn<2.0,>=1.0 in c:\\users\\jose6\\appdata\\roaming\\python\\python310\\site-packages (from classy-classification) (1.3.2)\n",
      "Requirement already satisfied: wheel<1.0,>=0.23.0 in c:\\users\\jose6\\appdata\\roaming\\python\\python310\\site-packages (from astunparse>=1.6.0->tensorflow) (0.41.3)\n",
      "Requirement already satisfied: pydantic-core==2.10.1 in c:\\users\\jose6\\appdata\\roaming\\python\\python310\\site-packages (from pydantic!=1.8,!=1.8.1,<3.0.0,>=1.7.4->spacy) (2.10.1)\n",
      "Requirement already satisfied: annotated-types>=0.4.0 in c:\\users\\jose6\\appdata\\roaming\\python\\python310\\site-packages (from pydantic!=1.8,!=1.8.1,<3.0.0,>=1.7.4->spacy) (0.6.0)\n",
      "Requirement already satisfied: urllib3<3,>=1.21.1 in c:\\program files\\python310\\lib\\site-packages (from requests<3.0.0,>=2.13.0->spacy) (2.0.7)\n",
      "Requirement already satisfied: certifi>=2017.4.17 in c:\\program files\\python310\\lib\\site-packages (from requests<3.0.0,>=2.13.0->spacy) (2023.7.22)\n",
      "Requirement already satisfied: charset-normalizer<4,>=2 in c:\\program files\\python310\\lib\\site-packages (from requests<3.0.0,>=2.13.0->spacy) (3.3.2)\n",
      "Requirement already satisfied: idna<4,>=2.5 in c:\\program files\\python310\\lib\\site-packages (from requests<3.0.0,>=2.13.0->spacy) (3.4)\n",
      "Requirement already satisfied: threadpoolctl>=2.0.0 in c:\\users\\jose6\\appdata\\roaming\\python\\python310\\site-packages (from scikit-learn<2.0,>=1.0->classy-classification) (3.2.0)\n",
      "Requirement already satisfied: scipy>=1.5.0 in c:\\users\\jose6\\appdata\\roaming\\python\\python310\\site-packages (from scikit-learn<2.0,>=1.0->classy-classification) (1.11.3)\n",
      "Requirement already satisfied: joblib>=1.1.1 in c:\\users\\jose6\\appdata\\roaming\\python\\python310\\site-packages (from scikit-learn<2.0,>=1.0->classy-classification) (1.3.2)\n",
      "Requirement already satisfied: torch>=1.6.0 in c:\\users\\jose6\\appdata\\roaming\\python\\python310\\site-packages (from sentence-transformers<3.0,>=2.0->classy-classification) (2.1.0)\n",
      "Requirement already satisfied: torchvision in c:\\users\\jose6\\appdata\\roaming\\python\\python310\\site-packages (from sentence-transformers<3.0,>=2.0->classy-classification) (0.16.0)\n",
      "Requirement already satisfied: nltk in c:\\users\\jose6\\appdata\\roaming\\python\\python310\\site-packages (from sentence-transformers<3.0,>=2.0->classy-classification) (3.8.1)\n",
      "Requirement already satisfied: sentencepiece in c:\\users\\jose6\\appdata\\roaming\\python\\python310\\site-packages (from sentence-transformers<3.0,>=2.0->classy-classification) (0.1.99)\n",
      "Requirement already satisfied: huggingface-hub>=0.4.0 in c:\\users\\jose6\\appdata\\roaming\\python\\python310\\site-packages (from sentence-transformers<3.0,>=2.0->classy-classification) (0.17.3)\n",
      "Requirement already satisfied: spacy-transformers<1.4.0,>=1.1.2 in c:\\users\\jose6\\appdata\\roaming\\python\\python310\\site-packages (from spacy) (1.3.2)\n",
      "Requirement already satisfied: tensorboard-data-server<0.7.0,>=0.6.0 in c:\\users\\jose6\\appdata\\roaming\\python\\python310\\site-packages (from tensorboard<2.11,>=2.10->tensorflow) (0.6.1)\n",
      "Requirement already satisfied: google-auth-oauthlib<0.5,>=0.4.1 in c:\\users\\jose6\\appdata\\roaming\\python\\python310\\site-packages (from tensorboard<2.11,>=2.10->tensorflow) (0.4.6)\n",
      "Requirement already satisfied: google-auth<3,>=1.6.3 in c:\\users\\jose6\\appdata\\roaming\\python\\python310\\site-packages (from tensorboard<2.11,>=2.10->tensorflow) (2.23.4)\n",
      "Requirement already satisfied: werkzeug>=1.0.1 in c:\\users\\jose6\\appdata\\roaming\\python\\python310\\site-packages (from tensorboard<2.11,>=2.10->tensorflow) (3.0.1)\n",
      "Requirement already satisfied: markdown>=2.6.8 in c:\\users\\jose6\\appdata\\roaming\\python\\python310\\site-packages (from tensorboard<2.11,>=2.10->tensorflow) (3.5.1)\n",
      "Requirement already satisfied: tensorboard-plugin-wit>=1.6.0 in c:\\users\\jose6\\appdata\\roaming\\python\\python310\\site-packages (from tensorboard<2.11,>=2.10->tensorflow) (1.8.1)\n",
      "Requirement already satisfied: confection<1.0.0,>=0.0.1 in c:\\users\\jose6\\appdata\\roaming\\python\\python310\\site-packages (from thinc<8.3.0,>=8.1.8->spacy) (0.1.3)\n",
      "Requirement already satisfied: blis<0.8.0,>=0.7.8 in c:\\users\\jose6\\appdata\\roaming\\python\\python310\\site-packages (from thinc<8.3.0,>=8.1.8->spacy) (0.7.11)\n",
      "Requirement already satisfied: colorama in c:\\program files\\python310\\lib\\site-packages (from tqdm<5.0.0,>=4.38.0->spacy) (0.4.6)\n",
      "Requirement already satisfied: pyyaml>=5.1 in c:\\program files\\python310\\lib\\site-packages (from transformers[torch]>4.20->classy-classification) (6.0.1)\n",
      "Requirement already satisfied: tokenizers<0.15,>=0.14 in c:\\users\\jose6\\appdata\\roaming\\python\\python310\\site-packages (from transformers[torch]>4.20->classy-classification) (0.14.1)\n",
      "Requirement already satisfied: regex!=2019.12.17 in c:\\users\\jose6\\appdata\\roaming\\python\\python310\\site-packages (from transformers[torch]>4.20->classy-classification) (2023.10.3)\n",
      "Requirement already satisfied: safetensors>=0.3.1 in c:\\users\\jose6\\appdata\\roaming\\python\\python310\\site-packages (from transformers[torch]>4.20->classy-classification) (0.4.0)\n",
      "Requirement already satisfied: filelock in c:\\users\\jose6\\appdata\\roaming\\python\\python310\\site-packages (from transformers[torch]>4.20->classy-classification) (3.13.1)\n",
      "Requirement already satisfied: accelerate>=0.20.3 in c:\\users\\jose6\\appdata\\roaming\\python\\python310\\site-packages (from transformers[torch]>4.20->classy-classification) (0.24.1)\n",
      "Requirement already satisfied: click<9.0.0,>=7.1.1 in c:\\users\\jose6\\appdata\\roaming\\python\\python310\\site-packages (from typer<0.10.0,>=0.3.0->spacy) (8.1.7)\n",
      "Requirement already satisfied: cloudpathlib<0.17.0,>=0.7.0 in c:\\users\\jose6\\appdata\\roaming\\python\\python310\\site-packages (from weasel<0.4.0,>=0.1.0->spacy) (0.16.0)\n",
      "Requirement already satisfied: MarkupSafe>=2.0 in c:\\program files\\python310\\lib\\site-packages (from jinja2->spacy) (2.1.3)\n",
      "Requirement already satisfied: psutil in c:\\program files\\python310\\lib\\site-packages (from accelerate>=0.20.3->transformers[torch]>4.20->classy-classification) (5.9.6)\n",
      "Requirement already satisfied: pyasn1-modules>=0.2.1 in c:\\users\\jose6\\appdata\\roaming\\python\\python310\\site-packages (from google-auth<3,>=1.6.3->tensorboard<2.11,>=2.10->tensorflow) (0.3.0)\n",
      "Requirement already satisfied: rsa<5,>=3.1.4 in c:\\users\\jose6\\appdata\\roaming\\python\\python310\\site-packages (from google-auth<3,>=1.6.3->tensorboard<2.11,>=2.10->tensorflow) (4.9)\n",
      "Requirement already satisfied: cachetools<6.0,>=2.0.0 in c:\\users\\jose6\\appdata\\roaming\\python\\python310\\site-packages (from google-auth<3,>=1.6.3->tensorboard<2.11,>=2.10->tensorflow) (5.3.2)\n",
      "Requirement already satisfied: requests-oauthlib>=0.7.0 in c:\\users\\jose6\\appdata\\roaming\\python\\python310\\site-packages (from google-auth-oauthlib<0.5,>=0.4.1->tensorboard<2.11,>=2.10->tensorflow) (1.3.1)\n",
      "Requirement already satisfied: fsspec in c:\\users\\jose6\\appdata\\roaming\\python\\python310\\site-packages (from huggingface-hub>=0.4.0->sentence-transformers<3.0,>=2.0->classy-classification) (2023.10.0)\n",
      "Requirement already satisfied: spacy-alignments<1.0.0,>=0.7.2 in c:\\users\\jose6\\appdata\\roaming\\python\\python310\\site-packages (from spacy-transformers<1.4.0,>=1.1.2->spacy) (0.9.1)\n",
      "Requirement already satisfied: networkx in c:\\users\\jose6\\appdata\\roaming\\python\\python310\\site-packages (from torch>=1.6.0->sentence-transformers<3.0,>=2.0->classy-classification) (3.2.1)\n",
      "Requirement already satisfied: sympy in c:\\users\\jose6\\appdata\\roaming\\python\\python310\\site-packages (from torch>=1.6.0->sentence-transformers<3.0,>=2.0->classy-classification) (1.12)\n",
      "Requirement already satisfied: pillow!=8.3.*,>=5.3.0 in c:\\users\\jose6\\appdata\\roaming\\python\\python310\\site-packages (from torchvision->sentence-transformers<3.0,>=2.0->classy-classification) (10.1.0)\n",
      "Requirement already satisfied: pyasn1<0.6.0,>=0.4.6 in c:\\users\\jose6\\appdata\\roaming\\python\\python310\\site-packages (from pyasn1-modules>=0.2.1->google-auth<3,>=1.6.3->tensorboard<2.11,>=2.10->tensorflow) (0.5.0)\n",
      "Requirement already satisfied: oauthlib>=3.0.0 in c:\\users\\jose6\\appdata\\roaming\\python\\python310\\site-packages (from requests-oauthlib>=0.7.0->google-auth-oauthlib<0.5,>=0.4.1->tensorboard<2.11,>=2.10->tensorflow) (3.2.2)\n",
      "Requirement already satisfied: mpmath>=0.19 in c:\\users\\jose6\\appdata\\roaming\\python\\python310\\site-packages (from sympy->torch>=1.6.0->sentence-transformers<3.0,>=2.0->classy-classification) (1.3.0)\n"
     ]
    },
    {
     "name": "stderr",
     "output_type": "stream",
     "text": [
      "\n",
      "[notice] A new release of pip is available: 23.0.1 -> 23.3.1\n",
      "[notice] To update, run: python.exe -m pip install --upgrade pip\n"
     ]
    }
   ],
   "source": [
    "!python -m pip install pymupdf pandas openpyxl tensorflow tensorflow_hub tensorflow-text spacy classy-classification "
   ]
  },
  {
   "cell_type": "code",
   "execution_count": 2,
   "outputs": [
    {
     "name": "stdout",
     "output_type": "stream",
     "text": [
      "^C\n"
     ]
    }
   ],
   "source": [
    "!python -m spacy download es_dep_news_trf"
   ],
   "metadata": {
    "id": "IWl_KZREzB3T",
    "outputId": "4d6a4dce-7489-4e6d-d1ad-df98b748bcd7",
    "ExecuteTime": {
     "end_time": "2023-11-13T13:29:51.467230300Z",
     "start_time": "2023-11-13T13:29:36.560798900Z"
    }
   }
  },
  {
   "cell_type": "markdown",
   "source": [
    "# Resumen Ejecutivo\n",
    "Durante el proceso de revisión de los informes de práctica del DISC (Departamento de Ingeniería de Sistemas y Computación), se requiere una inversión considerable de tiempo que, hasta la fecha, no ha sido automatizada. Esto conlleva largas jornadas de trabajo y carga adicional para los académicos, quienes podrían emplear ese tiempo en otras labores. Por lo tanto, como equipo de trabajo, hemos llegado a un consenso en la necesidad de llevar a cabo el análisis y desarrollo de un modelo que permita clasificar los informes en las categorías definidas en la rúbrica actual (insatisfactorio, regular, bueno y excelente).\n",
    "Es importante destacar que, con la llegada de la pandemia, la entrega de informes ha sido en formato digital, lo que ha generado un conjunto de aproximadamente 100 informes disponibles. Esta digitalización ofrece ventajas significativas para el entrenamiento del modelo, ya que se dispone de datos de entrada y resultados concretos (informe, rúbrica y nota).\n"
   ],
   "metadata": {
    "id": "wwxgY6M8rIDS"
   }
  },
  {
   "cell_type": "code",
   "source": [
    "import fitz\n",
    "import pandas as pd\n",
    "#pd.set_option(\"mode.copy_on_write\", True) #not on Python 3.9"
   ],
   "metadata": {
    "id": "50OQQBE7rlzE",
    "executionInfo": {
     "status": "error",
     "timestamp": 1698963780743,
     "user_tz": 180,
     "elapsed": 275,
     "user": {
      "displayName": "DAVID NAHUM ARAYA CADIZ",
      "userId": "08643668274056945811"
     }
    },
    "outputId": "a1ca34b1-97f5-4af3-affd-d781bb3f766b",
    "colab": {
     "base_uri": "https://localhost:8080/",
     "height": 349
    },
    "ExecuteTime": {
     "end_time": "2023-11-13T13:30:56.564113700Z",
     "start_time": "2023-11-13T13:30:55.353528900Z"
    }
   },
   "execution_count": 1,
   "outputs": []
  },
  {
   "cell_type": "markdown",
   "source": [
    "# Lectura de datos\n"
   ],
   "metadata": {
    "id": "GBIB6u4nrnD-",
    "ExecuteTime": {
     "end_time": "2023-10-10T23:40:00.959926900Z",
     "start_time": "2023-10-10T23:40:00.944208Z"
    }
   }
  },
  {
   "cell_type": "code",
   "execution_count": 2,
   "outputs": [],
   "source": [
    "def get_classification(grade, number=False):\n",
    "  classification = [0,0,0] # Regular, Bueno, Excelente (Todo 0 = Insatisfactorio)\n",
    "  grade = round(grade, 1)\n",
    "  if(grade < 4):\n",
    "    return \"insatisfactorio\" if not number else 0\n",
    "  elif (4 <= grade < 5.5):\n",
    "    classification[0] = 1\n",
    "    return \"regular\" if not number else 1\n",
    "  elif (5.5 <= grade < 6.5):\n",
    "    classification[1] = 1\n",
    "    return \"bueno\" if not number else 2\n",
    "  elif (6.5 <= grade <= 7):\n",
    "    classification[2] = 1\n",
    "    return \"excelente\" if not number else 3"
   ],
   "metadata": {
    "id": "BKmoSmVHzB3W",
    "ExecuteTime": {
     "end_time": "2023-11-13T13:30:57.894518500Z",
     "start_time": "2023-11-13T13:30:57.875069300Z"
    }
   }
  },
  {
   "cell_type": "code",
   "execution_count": 58,
   "outputs": [],
   "source": [
    "dataset = pd.read_excel(\"calificaciones.xlsx\", decimal=',')\n",
    "grades_columns = dataset.columns.difference([\"id\", \"periodo\", \"Unnamed: 9\"]) #[\"estructura\", \"escritura\", \"contenido\", \"conclusiones\", \"conocimiento\", \"relevancia\", \"total\"]\n",
    "rubric_columns = grades_columns.difference([\"total\"]) #, \"escritura\", \"estructura\"\n",
    "dataset = dataset.dropna(subset=grades_columns)"
   ],
   "metadata": {
    "id": "ALsO6MCgzB3W",
    "colab": {
     "base_uri": "https://localhost:8080/",
     "height": 390
    },
    "executionInfo": {
     "status": "error",
     "timestamp": 1698959147784,
     "user_tz": 180,
     "elapsed": 262,
     "user": {
      "displayName": "DAVID NAHUM ARAYA CADIZ",
      "userId": "08643668274056945811"
     }
    },
    "outputId": "93af515f-9b20-4e0f-c860-eeb9dae4dc71",
    "ExecuteTime": {
     "end_time": "2023-11-13T14:01:33.749138Z",
     "start_time": "2023-11-13T14:01:33.592061500Z"
    }
   }
  },
  {
   "cell_type": "markdown",
   "source": [
    "# Extracción y limpieza de documentos\n",
    "En esta sección, se cargan los documentos en formato PDF, para la extracción y limpieza de estos, seguido de su integración al dataset."
   ],
   "metadata": {
    "collapsed": false,
    "id": "bHe-8AbczB3X"
   }
  },
  {
   "cell_type": "code",
   "source": [
    "documents = []\n",
    "\n",
    "for id in dataset['id']:\n",
    "    pdf_file = fitz.open(f\"dataset/{id}.pdf\")\n",
    "    document_text = chr(12).join([page.get_text() for page in pdf_file])\n",
    "    documents.append(document_text)\n",
    "\n",
    "dataset.insert(loc=2, column=\"documents\", value=documents)\n",
    "dataset"
   ],
   "metadata": {
    "id": "5oOHwTYSry49",
    "executionInfo": {
     "status": "aborted",
     "timestamp": 1696970321635,
     "user_tz": 180,
     "elapsed": 9,
     "user": {
      "displayName": "JOSE MANUEL ALCAYAGA MARIN",
      "userId": "01460857505703722093"
     }
    },
    "outputId": "4a3d3351-aef6-452e-ddc5-034301bc4eea",
    "ExecuteTime": {
     "end_time": "2023-11-13T13:31:48.008698400Z",
     "start_time": "2023-11-13T13:31:01.453705600Z"
    }
   },
   "execution_count": 4,
   "outputs": [
    {
     "data": {
      "text/plain": "             id periodo                                          documents  \\\n0    20908397-1  2023-1   \\n  \\nUNIVERSIDAD CATÓLICA DEL NORTE  \\nFACUL...   \n1    18971994-1  2023-1   \\nAntofagasta \\n \\n           Abril de 2023 \\...   \n2    19445943-1  2023-1   \\n1 \\n \\n \\nUNIVERSIDAD CATÓLICA DEL NORTE \\n...   \n5    19463712-1  2023-1   \\n \\n \\n \\n                                  ...   \n6    20218430-1  2023-1   \\nUNIVERSIDAD CATÓLICA DEL NORTE \\nFACULTAD D...   \n..          ...     ...                                                ...   \n177  19928371-1  2021-1   \\nUNIVERSIDAD CATÓLICA DEL NORTE \\nFACULTAD D...   \n178  19952605-1  2021-1   \\n \\n \\n \\nUNIVERSIDAD CATÓLICA DEL NORTE \\nF...   \n179  19957163-1  2021-1   \\n \\nUNIVERSIDAD CATÓLICA DEL NORTE \\nFACULTA...   \n180  20180533-1  2021-1   \\nUNIVERSIDAD CATÓLICA DEL NORTE \\nFACULTAD D...   \n181  20408302-1  2021-1   \\ni \\n \\nx \\n \\nUNIVERSIDAD CATÓLICA DEL NORT...   \n\n     estructura  escritura  contenido  conclusiones  conocimiento  relevancia  \\\n0           6.2        5.1        6.0           5.5           4.4         6.0   \n1           6.9        6.8        6.8           6.8           7.0         6.9   \n2           6.7        6.9        6.5           6.4           6.8         7.0   \n5           4.4        4.9        4.9           5.8           4.0         6.0   \n6           6.1        5.8        5.5           5.0           4.5         5.8   \n..          ...        ...        ...           ...           ...         ...   \n177         6.8        6.2        6.0           5.7           6.3         6.0   \n178         7.0        6.8        6.8           7.0           7.0         7.0   \n179         6.5        4.5        5.8           5.5           6.4         6.3   \n180         7.0        6.0        6.7           6.8           6.8         7.0   \n181         6.5        5.0        6.0           6.5           6.5         6.5   \n\n     total Unnamed: 9  \n0      5.3        NaN  \n1      6.9        NaN  \n2      6.7        NaN  \n5      4.9        NaN  \n6      5.2        NaN  \n..     ...        ...  \n177    6.1        NaN  \n178    6.9        NaN  \n179    5.8        NaN  \n180    6.7        NaN  \n181    6.2        NaN  \n\n[174 rows x 11 columns]",
      "text/html": "<div>\n<style scoped>\n    .dataframe tbody tr th:only-of-type {\n        vertical-align: middle;\n    }\n\n    .dataframe tbody tr th {\n        vertical-align: top;\n    }\n\n    .dataframe thead th {\n        text-align: right;\n    }\n</style>\n<table border=\"1\" class=\"dataframe\">\n  <thead>\n    <tr style=\"text-align: right;\">\n      <th></th>\n      <th>id</th>\n      <th>periodo</th>\n      <th>documents</th>\n      <th>estructura</th>\n      <th>escritura</th>\n      <th>contenido</th>\n      <th>conclusiones</th>\n      <th>conocimiento</th>\n      <th>relevancia</th>\n      <th>total</th>\n      <th>Unnamed: 9</th>\n    </tr>\n  </thead>\n  <tbody>\n    <tr>\n      <th>0</th>\n      <td>20908397-1</td>\n      <td>2023-1</td>\n      <td>\\n  \\nUNIVERSIDAD CATÓLICA DEL NORTE  \\nFACUL...</td>\n      <td>6.2</td>\n      <td>5.1</td>\n      <td>6.0</td>\n      <td>5.5</td>\n      <td>4.4</td>\n      <td>6.0</td>\n      <td>5.3</td>\n      <td>NaN</td>\n    </tr>\n    <tr>\n      <th>1</th>\n      <td>18971994-1</td>\n      <td>2023-1</td>\n      <td>\\nAntofagasta \\n \\n           Abril de 2023 \\...</td>\n      <td>6.9</td>\n      <td>6.8</td>\n      <td>6.8</td>\n      <td>6.8</td>\n      <td>7.0</td>\n      <td>6.9</td>\n      <td>6.9</td>\n      <td>NaN</td>\n    </tr>\n    <tr>\n      <th>2</th>\n      <td>19445943-1</td>\n      <td>2023-1</td>\n      <td>\\n1 \\n \\n \\nUNIVERSIDAD CATÓLICA DEL NORTE \\n...</td>\n      <td>6.7</td>\n      <td>6.9</td>\n      <td>6.5</td>\n      <td>6.4</td>\n      <td>6.8</td>\n      <td>7.0</td>\n      <td>6.7</td>\n      <td>NaN</td>\n    </tr>\n    <tr>\n      <th>5</th>\n      <td>19463712-1</td>\n      <td>2023-1</td>\n      <td>\\n \\n \\n \\n                                  ...</td>\n      <td>4.4</td>\n      <td>4.9</td>\n      <td>4.9</td>\n      <td>5.8</td>\n      <td>4.0</td>\n      <td>6.0</td>\n      <td>4.9</td>\n      <td>NaN</td>\n    </tr>\n    <tr>\n      <th>6</th>\n      <td>20218430-1</td>\n      <td>2023-1</td>\n      <td>\\nUNIVERSIDAD CATÓLICA DEL NORTE \\nFACULTAD D...</td>\n      <td>6.1</td>\n      <td>5.8</td>\n      <td>5.5</td>\n      <td>5.0</td>\n      <td>4.5</td>\n      <td>5.8</td>\n      <td>5.2</td>\n      <td>NaN</td>\n    </tr>\n    <tr>\n      <th>...</th>\n      <td>...</td>\n      <td>...</td>\n      <td>...</td>\n      <td>...</td>\n      <td>...</td>\n      <td>...</td>\n      <td>...</td>\n      <td>...</td>\n      <td>...</td>\n      <td>...</td>\n      <td>...</td>\n    </tr>\n    <tr>\n      <th>177</th>\n      <td>19928371-1</td>\n      <td>2021-1</td>\n      <td>\\nUNIVERSIDAD CATÓLICA DEL NORTE \\nFACULTAD D...</td>\n      <td>6.8</td>\n      <td>6.2</td>\n      <td>6.0</td>\n      <td>5.7</td>\n      <td>6.3</td>\n      <td>6.0</td>\n      <td>6.1</td>\n      <td>NaN</td>\n    </tr>\n    <tr>\n      <th>178</th>\n      <td>19952605-1</td>\n      <td>2021-1</td>\n      <td>\\n \\n \\n \\nUNIVERSIDAD CATÓLICA DEL NORTE \\nF...</td>\n      <td>7.0</td>\n      <td>6.8</td>\n      <td>6.8</td>\n      <td>7.0</td>\n      <td>7.0</td>\n      <td>7.0</td>\n      <td>6.9</td>\n      <td>NaN</td>\n    </tr>\n    <tr>\n      <th>179</th>\n      <td>19957163-1</td>\n      <td>2021-1</td>\n      <td>\\n \\nUNIVERSIDAD CATÓLICA DEL NORTE \\nFACULTA...</td>\n      <td>6.5</td>\n      <td>4.5</td>\n      <td>5.8</td>\n      <td>5.5</td>\n      <td>6.4</td>\n      <td>6.3</td>\n      <td>5.8</td>\n      <td>NaN</td>\n    </tr>\n    <tr>\n      <th>180</th>\n      <td>20180533-1</td>\n      <td>2021-1</td>\n      <td>\\nUNIVERSIDAD CATÓLICA DEL NORTE \\nFACULTAD D...</td>\n      <td>7.0</td>\n      <td>6.0</td>\n      <td>6.7</td>\n      <td>6.8</td>\n      <td>6.8</td>\n      <td>7.0</td>\n      <td>6.7</td>\n      <td>NaN</td>\n    </tr>\n    <tr>\n      <th>181</th>\n      <td>20408302-1</td>\n      <td>2021-1</td>\n      <td>\\ni \\n \\nx \\n \\nUNIVERSIDAD CATÓLICA DEL NORT...</td>\n      <td>6.5</td>\n      <td>5.0</td>\n      <td>6.0</td>\n      <td>6.5</td>\n      <td>6.5</td>\n      <td>6.5</td>\n      <td>6.2</td>\n      <td>NaN</td>\n    </tr>\n  </tbody>\n</table>\n<p>174 rows × 11 columns</p>\n</div>"
     },
     "execution_count": 4,
     "metadata": {},
     "output_type": "execute_result"
    }
   ]
  },
  {
   "cell_type": "markdown",
   "source": [
    "# Preprocesamiento de etiquetas\n",
    "Con base en las notas obtenidas por cada entrada, se clasifican los documentos en las categorías definidas en la rúbrica.\n",
    "Se consideran dos tipos de etiquetas: texto y número. El primero se utiliza para el entrenamiento de modelos de Deep Learning, mientras que el segundo se utiliza para el entrenamiento de modelos tradicionales."
   ],
   "metadata": {
    "collapsed": false,
    "id": "4Q4tHjIzzB3Y"
   }
  },
  {
   "cell_type": "code",
   "execution_count": 5,
   "outputs": [
    {
     "name": "stderr",
     "output_type": "stream",
     "text": [
      "C:\\Users\\jose6\\AppData\\Local\\Temp\\ipykernel_22860\\4211292860.py:3: DeprecationWarning: In a future version, `df.iloc[:, i] = newvals` will attempt to set the values inplace instead of always setting a new array. To retain the old behavior, use either `df[df.columns[i]] = newvals` or, if columns are non-unique, `df.isetitem(i, newvals)`\n",
      "  dataset.loc[:, grades_columns] = dataset.loc[:, grades_columns].apply(lambda s: s.apply(lambda x: get_classification(grade=x, number=True)))\n"
     ]
    }
   ],
   "source": [
    "text_labeled_dataset = dataset.copy()\n",
    "text_labeled_dataset.loc[:, grades_columns] = text_labeled_dataset.loc[:, grades_columns].apply(lambda s: s.apply(get_classification))\n",
    "dataset.loc[:, grades_columns] = dataset.loc[:, grades_columns].apply(lambda s: s.apply(lambda x: get_classification(grade=x, number=True)))"
   ],
   "metadata": {
    "id": "mleH6J-3zB3Y",
    "outputId": "20495e2d-9827-4989-c04d-c8cb67b5429b",
    "ExecuteTime": {
     "end_time": "2023-11-13T13:31:48.204296500Z",
     "start_time": "2023-11-13T13:31:48.007685Z"
    }
   }
  },
  {
   "cell_type": "markdown",
   "source": [
    "# Clasificación de documentos con métodos tradicionales\n",
    "Se usará SciKit-Learn para el análisis de los documentos mediante métodos tradicionales de NLP, como TF-IDF ~~y Word2Vec?~~. Se utilizará un modelo de clasificación de regresión logística y SVM para la clasificación de los documentos.\n",
    "En primera instancia, solo se probará la clasificiación final."
   ],
   "metadata": {
    "collapsed": false,
    "id": "MYMJnSAdzB3Z"
   }
  },
  {
   "cell_type": "code",
   "execution_count": 77,
   "outputs": [],
   "source": [
    "from sklearn.feature_extraction.text import TfidfVectorizer\n",
    "from sklearn.svm import SVC\n",
    "from sklearn.linear_model import RidgeClassifier, LogisticRegression, LinearRegression\n",
    "from sklearn.naive_bayes import MultinomialNB, CategoricalNB\n",
    "from sklearn.ensemble import RandomForestClassifier, RandomForestRegressor\n",
    "from sklearn.model_selection import train_test_split\n",
    "from sklearn.multioutput import MultiOutputClassifier\n",
    "from sklearn.metrics import accuracy_score, f1_score"
   ],
   "metadata": {
    "id": "1lNHqqk-zB3Z",
    "ExecuteTime": {
     "end_time": "2023-11-13T14:37:12.426559100Z",
     "start_time": "2023-11-13T14:37:12.392498300Z"
    }
   }
  },
  {
   "cell_type": "markdown",
   "source": [
    "## Preprocesamiento TF-IDF"
   ],
   "metadata": {
    "collapsed": false
   }
  },
  {
   "cell_type": "code",
   "execution_count": 7,
   "outputs": [],
   "source": [
    "Xn = dataset['documents']\n",
    "yn = dataset[grades_columns]\n",
    "X_train, X_test, y_train, y_test = train_test_split(Xn, yn, random_state=3, test_size=0.3)"
   ],
   "metadata": {
    "id": "BHDzcXQXzB3Z",
    "ExecuteTime": {
     "end_time": "2023-11-13T13:31:53.599968300Z",
     "start_time": "2023-11-13T13:31:53.552557500Z"
    }
   }
  },
  {
   "cell_type": "code",
   "execution_count": 8,
   "outputs": [],
   "source": [
    "vectorizer = TfidfVectorizer(ngram_range=(1, 3), max_df=0.9, min_df=0.2)\n",
    "X_train_bow = vectorizer.fit_transform(X_train)\n",
    "X_test_bow = vectorizer.transform(X_test)"
   ],
   "metadata": {
    "id": "z0HQfhUBzB3a",
    "ExecuteTime": {
     "end_time": "2023-11-13T13:31:56.686125200Z",
     "start_time": "2023-11-13T13:31:53.586042500Z"
    }
   }
  },
  {
   "cell_type": "markdown",
   "source": [
    "## Regresores de nota final"
   ],
   "metadata": {
    "collapsed": false
   }
  },
  {
   "cell_type": "code",
   "execution_count": 66,
   "outputs": [],
   "source": [
    "def get_final_grade(rubric_grades):\n",
    "    result = rubric_grades['estructura']*0.5\n",
    "    result += rubric_grades['escritura']*0.15\n",
    "    result += rubric_grades['contenido']*0.25\n",
    "    result += rubric_grades['conclusiones']*0.15\n",
    "    result += rubric_grades['conocimiento']*0.30\n",
    "    result += rubric_grades['relevancia']*0.10\n",
    "    return round(result)"
   ],
   "metadata": {
    "collapsed": false,
    "ExecuteTime": {
     "end_time": "2023-11-13T14:08:35.651595500Z",
     "start_time": "2023-11-13T14:08:35.634519600Z"
    }
   }
  },
  {
   "cell_type": "code",
   "execution_count": 73,
   "outputs": [
    {
     "name": "stdout",
     "output_type": "stream",
     "text": [
      "0.10344827586206896\n"
     ]
    },
    {
     "data": {
      "text/plain": "0      2.0\n1      4.0\n2      4.0\n5      2.0\n6      2.0\n      ... \n177    3.0\n178    4.0\n179    3.0\n180    4.0\n181    4.0\nName: estructura, Length: 174, dtype: float64"
     },
     "execution_count": 73,
     "metadata": {},
     "output_type": "execute_result"
    }
   ],
   "source": [
    "y_calc = get_final_grade(yn[rubric_columns])\n",
    "print(accuracy_score(y_calc, yn['total']))\n",
    "y_calc"
   ],
   "metadata": {
    "collapsed": false,
    "ExecuteTime": {
     "end_time": "2023-11-13T14:11:21.995464600Z",
     "start_time": "2023-11-13T14:11:21.919605700Z"
    }
   }
  },
  {
   "cell_type": "code",
   "execution_count": 59,
   "outputs": [
    {
     "name": "stdout",
     "output_type": "stream",
     "text": [
      "0.8113207547169812\n"
     ]
    },
    {
     "data": {
      "text/plain": "{'Característica': Index(['conclusiones', 'conocimiento', 'contenido', 'escritura', 'estructura',\n        'relevancia'],\n       dtype='object'),\n 'Importancia': array([0.16857424, 0.2603969 , 0.26508912, 0.19325956, 0.05499339,\n        0.05768678])}"
     },
     "execution_count": 59,
     "metadata": {},
     "output_type": "execute_result"
    }
   ],
   "source": [
    "final_grade_rf = RandomForestClassifier()\n",
    "final_grade_rf.fit(y_train[rubric_columns], y_train['total'])\n",
    "grade_pred_rf = final_grade_rf.predict(y_test[rubric_columns])\n",
    "print(accuracy_score(y_test['total'], grade_pred_rf))\n",
    "{'Característica': rubric_columns, 'Importancia': final_grade_rf.feature_importances_}"
   ],
   "metadata": {
    "collapsed": false,
    "ExecuteTime": {
     "end_time": "2023-11-13T14:01:40.439103800Z",
     "start_time": "2023-11-13T14:01:40.314202500Z"
    }
   }
  },
  {
   "cell_type": "code",
   "execution_count": 60,
   "outputs": [
    {
     "name": "stdout",
     "output_type": "stream",
     "text": [
      "0.8679245283018868\n"
     ]
    },
    {
     "data": {
      "text/plain": "{'Característica': Index(['conclusiones', 'conocimiento', 'contenido', 'escritura', 'estructura',\n        'relevancia'],\n       dtype='object'),\n 'Importancia': array([[-1.34695751, -1.35070132, -0.92570698, -1.02865765, -0.25962928,\n         -1.29684428],\n        [-0.59156168, -1.05596707, -0.89826997, -1.19481917, -0.23909476,\n         -0.17719915],\n        [ 0.46610424,  0.36809972,  0.03083842,  0.40622851, -0.19707045,\n          0.37408921],\n        [ 1.47241495,  2.03856867,  1.79313853,  1.8172483 ,  0.69579448,\n          1.09995422]])}"
     },
     "execution_count": 60,
     "metadata": {},
     "output_type": "execute_result"
    }
   ],
   "source": [
    "final_grade_log = LogisticRegression(max_iter=1000)\n",
    "final_grade_log.fit(y_train[rubric_columns], y_train['total'])\n",
    "grade_pred_log = final_grade_log.predict(y_test[rubric_columns])\n",
    "print(accuracy_score(y_test['total'], grade_pred_log))"
   ],
   "metadata": {
    "collapsed": false,
    "ExecuteTime": {
     "end_time": "2023-11-13T14:01:41.649059400Z",
     "start_time": "2023-11-13T14:01:41.602514400Z"
    }
   }
  },
  {
   "cell_type": "code",
   "execution_count": 1,
   "outputs": [
    {
     "ename": "NameError",
     "evalue": "name 'CategoricalNB' is not defined",
     "output_type": "error",
     "traceback": [
      "\u001B[1;31m---------------------------------------------------------------------------\u001B[0m",
      "\u001B[1;31mNameError\u001B[0m                                 Traceback (most recent call last)",
      "Cell \u001B[1;32mIn[1], line 1\u001B[0m\n\u001B[1;32m----> 1\u001B[0m final_grade_nb \u001B[38;5;241m=\u001B[39m \u001B[43mCategoricalNB\u001B[49m()\n\u001B[0;32m      2\u001B[0m final_grade_nb\u001B[38;5;241m.\u001B[39mfit(y_train[rubric_columns], y_train[\u001B[38;5;124m'\u001B[39m\u001B[38;5;124mtotal\u001B[39m\u001B[38;5;124m'\u001B[39m])\n\u001B[0;32m      3\u001B[0m grade_pred_nb \u001B[38;5;241m=\u001B[39m final_grade_log\u001B[38;5;241m.\u001B[39mpredict(y_test[rubric_columns])\n",
      "\u001B[1;31mNameError\u001B[0m: name 'CategoricalNB' is not defined"
     ]
    }
   ],
   "source": [
    "final_grade_nb = CategoricalNB()\n",
    "final_grade_nb.fit(y_train[rubric_columns], y_train['total'])\n",
    "grade_pred_nb = final_grade_log.predict(y_test[rubric_columns])\n",
    "print(accuracy_score(y_test['total'], grade_pred_nb))\n",
    "print(f1_score(y_test['total'], grade_pred_nb, average='weighted'))"
   ],
   "metadata": {
    "collapsed": false,
    "ExecuteTime": {
     "end_time": "2023-11-13T15:18:54.597476100Z",
     "start_time": "2023-11-13T15:18:54.546424800Z"
    }
   }
  },
  {
   "cell_type": "markdown",
   "source": [
    "## Clasificación de documentos con SVM"
   ],
   "metadata": {
    "collapsed": false
   }
  },
  {
   "cell_type": "code",
   "execution_count": 85,
   "outputs": [
    {
     "name": "stdout",
     "output_type": "stream",
     "text": [
      "0.5849056603773585\n",
      "0.5516265369466873\n"
     ]
    }
   ],
   "source": [
    "svc_n = SVC(C=10)\n",
    "svc_n.fit(X_train_bow, y_train['total'])\n",
    "y_pred = svc_n.predict(X_test_bow)\n",
    "print(accuracy_score(y_test['total'], y_pred))\n",
    "print(f1_score(y_test['total'], y_pred, average='weighted'))"
   ],
   "metadata": {
    "id": "rs1HVwG_zB3a",
    "outputId": "38650c0d-f462-4168-966f-5f0b0dca9819",
    "ExecuteTime": {
     "end_time": "2023-11-13T14:39:07.734194600Z",
     "start_time": "2023-11-13T14:39:07.421751300Z"
    }
   }
  },
  {
   "cell_type": "code",
   "execution_count": 80,
   "outputs": [
    {
     "name": "stdout",
     "output_type": "stream",
     "text": [
      "0.07547169811320754\n"
     ]
    },
    {
     "ename": "ValueError",
     "evalue": "multiclass-multioutput is not supported",
     "output_type": "error",
     "traceback": [
      "\u001B[1;31m---------------------------------------------------------------------------\u001B[0m",
      "\u001B[1;31mValueError\u001B[0m                                Traceback (most recent call last)",
      "Cell \u001B[1;32mIn[80], line 5\u001B[0m\n\u001B[0;32m      3\u001B[0m y_pred_cont \u001B[38;5;241m=\u001B[39m svc_n_mo\u001B[38;5;241m.\u001B[39mpredict(X_test_bow)\n\u001B[0;32m      4\u001B[0m \u001B[38;5;28mprint\u001B[39m(svc_n_mo\u001B[38;5;241m.\u001B[39mscore(X_test_bow, y_test[rubric_columns]))\n\u001B[1;32m----> 5\u001B[0m \u001B[38;5;28mprint\u001B[39m(\u001B[43mf1_score\u001B[49m\u001B[43m(\u001B[49m\u001B[43my_test\u001B[49m\u001B[43m[\u001B[49m\u001B[43mrubric_columns\u001B[49m\u001B[43m]\u001B[49m\u001B[43m,\u001B[49m\u001B[43m \u001B[49m\u001B[43my_pred_cont\u001B[49m\u001B[43m,\u001B[49m\u001B[43m \u001B[49m\u001B[43maverage\u001B[49m\u001B[38;5;241;43m=\u001B[39;49m\u001B[38;5;124;43m'\u001B[39;49m\u001B[38;5;124;43mmacro\u001B[39;49m\u001B[38;5;124;43m'\u001B[39;49m\u001B[43m)\u001B[49m)\n\u001B[0;32m      6\u001B[0m y_pred_cont\n",
      "File \u001B[1;32m~\\AppData\\Roaming\\Python\\Python310\\site-packages\\sklearn\\utils\\_param_validation.py:214\u001B[0m, in \u001B[0;36mvalidate_params.<locals>.decorator.<locals>.wrapper\u001B[1;34m(*args, **kwargs)\u001B[0m\n\u001B[0;32m    208\u001B[0m \u001B[38;5;28;01mtry\u001B[39;00m:\n\u001B[0;32m    209\u001B[0m     \u001B[38;5;28;01mwith\u001B[39;00m config_context(\n\u001B[0;32m    210\u001B[0m         skip_parameter_validation\u001B[38;5;241m=\u001B[39m(\n\u001B[0;32m    211\u001B[0m             prefer_skip_nested_validation \u001B[38;5;129;01mor\u001B[39;00m global_skip_validation\n\u001B[0;32m    212\u001B[0m         )\n\u001B[0;32m    213\u001B[0m     ):\n\u001B[1;32m--> 214\u001B[0m         \u001B[38;5;28;01mreturn\u001B[39;00m func(\u001B[38;5;241m*\u001B[39margs, \u001B[38;5;241m*\u001B[39m\u001B[38;5;241m*\u001B[39mkwargs)\n\u001B[0;32m    215\u001B[0m \u001B[38;5;28;01mexcept\u001B[39;00m InvalidParameterError \u001B[38;5;28;01mas\u001B[39;00m e:\n\u001B[0;32m    216\u001B[0m     \u001B[38;5;66;03m# When the function is just a wrapper around an estimator, we allow\u001B[39;00m\n\u001B[0;32m    217\u001B[0m     \u001B[38;5;66;03m# the function to delegate validation to the estimator, but we replace\u001B[39;00m\n\u001B[0;32m    218\u001B[0m     \u001B[38;5;66;03m# the name of the estimator by the name of the function in the error\u001B[39;00m\n\u001B[0;32m    219\u001B[0m     \u001B[38;5;66;03m# message to avoid confusion.\u001B[39;00m\n\u001B[0;32m    220\u001B[0m     msg \u001B[38;5;241m=\u001B[39m re\u001B[38;5;241m.\u001B[39msub(\n\u001B[0;32m    221\u001B[0m         \u001B[38;5;124mr\u001B[39m\u001B[38;5;124m\"\u001B[39m\u001B[38;5;124mparameter of \u001B[39m\u001B[38;5;124m\\\u001B[39m\u001B[38;5;124mw+ must be\u001B[39m\u001B[38;5;124m\"\u001B[39m,\n\u001B[0;32m    222\u001B[0m         \u001B[38;5;124mf\u001B[39m\u001B[38;5;124m\"\u001B[39m\u001B[38;5;124mparameter of \u001B[39m\u001B[38;5;132;01m{\u001B[39;00mfunc\u001B[38;5;241m.\u001B[39m\u001B[38;5;18m__qualname__\u001B[39m\u001B[38;5;132;01m}\u001B[39;00m\u001B[38;5;124m must be\u001B[39m\u001B[38;5;124m\"\u001B[39m,\n\u001B[0;32m    223\u001B[0m         \u001B[38;5;28mstr\u001B[39m(e),\n\u001B[0;32m    224\u001B[0m     )\n",
      "File \u001B[1;32m~\\AppData\\Roaming\\Python\\Python310\\site-packages\\sklearn\\metrics\\_classification.py:1239\u001B[0m, in \u001B[0;36mf1_score\u001B[1;34m(y_true, y_pred, labels, pos_label, average, sample_weight, zero_division)\u001B[0m\n\u001B[0;32m   1070\u001B[0m \u001B[38;5;129m@validate_params\u001B[39m(\n\u001B[0;32m   1071\u001B[0m     {\n\u001B[0;32m   1072\u001B[0m         \u001B[38;5;124m\"\u001B[39m\u001B[38;5;124my_true\u001B[39m\u001B[38;5;124m\"\u001B[39m: [\u001B[38;5;124m\"\u001B[39m\u001B[38;5;124marray-like\u001B[39m\u001B[38;5;124m\"\u001B[39m, \u001B[38;5;124m\"\u001B[39m\u001B[38;5;124msparse matrix\u001B[39m\u001B[38;5;124m\"\u001B[39m],\n\u001B[1;32m   (...)\u001B[0m\n\u001B[0;32m   1097\u001B[0m     zero_division\u001B[38;5;241m=\u001B[39m\u001B[38;5;124m\"\u001B[39m\u001B[38;5;124mwarn\u001B[39m\u001B[38;5;124m\"\u001B[39m,\n\u001B[0;32m   1098\u001B[0m ):\n\u001B[0;32m   1099\u001B[0m \u001B[38;5;250m    \u001B[39m\u001B[38;5;124;03m\"\"\"Compute the F1 score, also known as balanced F-score or F-measure.\u001B[39;00m\n\u001B[0;32m   1100\u001B[0m \n\u001B[0;32m   1101\u001B[0m \u001B[38;5;124;03m    The F1 score can be interpreted as a harmonic mean of the precision and\u001B[39;00m\n\u001B[1;32m   (...)\u001B[0m\n\u001B[0;32m   1237\u001B[0m \u001B[38;5;124;03m    array([0.66666667, 1.        , 0.66666667])\u001B[39;00m\n\u001B[0;32m   1238\u001B[0m \u001B[38;5;124;03m    \"\"\"\u001B[39;00m\n\u001B[1;32m-> 1239\u001B[0m     \u001B[38;5;28;01mreturn\u001B[39;00m \u001B[43mfbeta_score\u001B[49m\u001B[43m(\u001B[49m\n\u001B[0;32m   1240\u001B[0m \u001B[43m        \u001B[49m\u001B[43my_true\u001B[49m\u001B[43m,\u001B[49m\n\u001B[0;32m   1241\u001B[0m \u001B[43m        \u001B[49m\u001B[43my_pred\u001B[49m\u001B[43m,\u001B[49m\n\u001B[0;32m   1242\u001B[0m \u001B[43m        \u001B[49m\u001B[43mbeta\u001B[49m\u001B[38;5;241;43m=\u001B[39;49m\u001B[38;5;241;43m1\u001B[39;49m\u001B[43m,\u001B[49m\n\u001B[0;32m   1243\u001B[0m \u001B[43m        \u001B[49m\u001B[43mlabels\u001B[49m\u001B[38;5;241;43m=\u001B[39;49m\u001B[43mlabels\u001B[49m\u001B[43m,\u001B[49m\n\u001B[0;32m   1244\u001B[0m \u001B[43m        \u001B[49m\u001B[43mpos_label\u001B[49m\u001B[38;5;241;43m=\u001B[39;49m\u001B[43mpos_label\u001B[49m\u001B[43m,\u001B[49m\n\u001B[0;32m   1245\u001B[0m \u001B[43m        \u001B[49m\u001B[43maverage\u001B[49m\u001B[38;5;241;43m=\u001B[39;49m\u001B[43maverage\u001B[49m\u001B[43m,\u001B[49m\n\u001B[0;32m   1246\u001B[0m \u001B[43m        \u001B[49m\u001B[43msample_weight\u001B[49m\u001B[38;5;241;43m=\u001B[39;49m\u001B[43msample_weight\u001B[49m\u001B[43m,\u001B[49m\n\u001B[0;32m   1247\u001B[0m \u001B[43m        \u001B[49m\u001B[43mzero_division\u001B[49m\u001B[38;5;241;43m=\u001B[39;49m\u001B[43mzero_division\u001B[49m\u001B[43m,\u001B[49m\n\u001B[0;32m   1248\u001B[0m \u001B[43m    \u001B[49m\u001B[43m)\u001B[49m\n",
      "File \u001B[1;32m~\\AppData\\Roaming\\Python\\Python310\\site-packages\\sklearn\\utils\\_param_validation.py:187\u001B[0m, in \u001B[0;36mvalidate_params.<locals>.decorator.<locals>.wrapper\u001B[1;34m(*args, **kwargs)\u001B[0m\n\u001B[0;32m    185\u001B[0m global_skip_validation \u001B[38;5;241m=\u001B[39m get_config()[\u001B[38;5;124m\"\u001B[39m\u001B[38;5;124mskip_parameter_validation\u001B[39m\u001B[38;5;124m\"\u001B[39m]\n\u001B[0;32m    186\u001B[0m \u001B[38;5;28;01mif\u001B[39;00m global_skip_validation:\n\u001B[1;32m--> 187\u001B[0m     \u001B[38;5;28;01mreturn\u001B[39;00m func(\u001B[38;5;241m*\u001B[39margs, \u001B[38;5;241m*\u001B[39m\u001B[38;5;241m*\u001B[39mkwargs)\n\u001B[0;32m    189\u001B[0m func_sig \u001B[38;5;241m=\u001B[39m signature(func)\n\u001B[0;32m    191\u001B[0m \u001B[38;5;66;03m# Map *args/**kwargs to the function signature\u001B[39;00m\n",
      "File \u001B[1;32m~\\AppData\\Roaming\\Python\\Python310\\site-packages\\sklearn\\metrics\\_classification.py:1413\u001B[0m, in \u001B[0;36mfbeta_score\u001B[1;34m(y_true, y_pred, beta, labels, pos_label, average, sample_weight, zero_division)\u001B[0m\n\u001B[0;32m   1251\u001B[0m \u001B[38;5;129m@validate_params\u001B[39m(\n\u001B[0;32m   1252\u001B[0m     {\n\u001B[0;32m   1253\u001B[0m         \u001B[38;5;124m\"\u001B[39m\u001B[38;5;124my_true\u001B[39m\u001B[38;5;124m\"\u001B[39m: [\u001B[38;5;124m\"\u001B[39m\u001B[38;5;124marray-like\u001B[39m\u001B[38;5;124m\"\u001B[39m, \u001B[38;5;124m\"\u001B[39m\u001B[38;5;124msparse matrix\u001B[39m\u001B[38;5;124m\"\u001B[39m],\n\u001B[1;32m   (...)\u001B[0m\n\u001B[0;32m   1280\u001B[0m     zero_division\u001B[38;5;241m=\u001B[39m\u001B[38;5;124m\"\u001B[39m\u001B[38;5;124mwarn\u001B[39m\u001B[38;5;124m\"\u001B[39m,\n\u001B[0;32m   1281\u001B[0m ):\n\u001B[0;32m   1282\u001B[0m \u001B[38;5;250m    \u001B[39m\u001B[38;5;124;03m\"\"\"Compute the F-beta score.\u001B[39;00m\n\u001B[0;32m   1283\u001B[0m \n\u001B[0;32m   1284\u001B[0m \u001B[38;5;124;03m    The F-beta score is the weighted harmonic mean of precision and recall,\u001B[39;00m\n\u001B[1;32m   (...)\u001B[0m\n\u001B[0;32m   1410\u001B[0m \u001B[38;5;124;03m    0.38...\u001B[39;00m\n\u001B[0;32m   1411\u001B[0m \u001B[38;5;124;03m    \"\"\"\u001B[39;00m\n\u001B[1;32m-> 1413\u001B[0m     _, _, f, _ \u001B[38;5;241m=\u001B[39m \u001B[43mprecision_recall_fscore_support\u001B[49m\u001B[43m(\u001B[49m\n\u001B[0;32m   1414\u001B[0m \u001B[43m        \u001B[49m\u001B[43my_true\u001B[49m\u001B[43m,\u001B[49m\n\u001B[0;32m   1415\u001B[0m \u001B[43m        \u001B[49m\u001B[43my_pred\u001B[49m\u001B[43m,\u001B[49m\n\u001B[0;32m   1416\u001B[0m \u001B[43m        \u001B[49m\u001B[43mbeta\u001B[49m\u001B[38;5;241;43m=\u001B[39;49m\u001B[43mbeta\u001B[49m\u001B[43m,\u001B[49m\n\u001B[0;32m   1417\u001B[0m \u001B[43m        \u001B[49m\u001B[43mlabels\u001B[49m\u001B[38;5;241;43m=\u001B[39;49m\u001B[43mlabels\u001B[49m\u001B[43m,\u001B[49m\n\u001B[0;32m   1418\u001B[0m \u001B[43m        \u001B[49m\u001B[43mpos_label\u001B[49m\u001B[38;5;241;43m=\u001B[39;49m\u001B[43mpos_label\u001B[49m\u001B[43m,\u001B[49m\n\u001B[0;32m   1419\u001B[0m \u001B[43m        \u001B[49m\u001B[43maverage\u001B[49m\u001B[38;5;241;43m=\u001B[39;49m\u001B[43maverage\u001B[49m\u001B[43m,\u001B[49m\n\u001B[0;32m   1420\u001B[0m \u001B[43m        \u001B[49m\u001B[43mwarn_for\u001B[49m\u001B[38;5;241;43m=\u001B[39;49m\u001B[43m(\u001B[49m\u001B[38;5;124;43m\"\u001B[39;49m\u001B[38;5;124;43mf-score\u001B[39;49m\u001B[38;5;124;43m\"\u001B[39;49m\u001B[43m,\u001B[49m\u001B[43m)\u001B[49m\u001B[43m,\u001B[49m\n\u001B[0;32m   1421\u001B[0m \u001B[43m        \u001B[49m\u001B[43msample_weight\u001B[49m\u001B[38;5;241;43m=\u001B[39;49m\u001B[43msample_weight\u001B[49m\u001B[43m,\u001B[49m\n\u001B[0;32m   1422\u001B[0m \u001B[43m        \u001B[49m\u001B[43mzero_division\u001B[49m\u001B[38;5;241;43m=\u001B[39;49m\u001B[43mzero_division\u001B[49m\u001B[43m,\u001B[49m\n\u001B[0;32m   1423\u001B[0m \u001B[43m    \u001B[49m\u001B[43m)\u001B[49m\n\u001B[0;32m   1424\u001B[0m     \u001B[38;5;28;01mreturn\u001B[39;00m f\n",
      "File \u001B[1;32m~\\AppData\\Roaming\\Python\\Python310\\site-packages\\sklearn\\utils\\_param_validation.py:187\u001B[0m, in \u001B[0;36mvalidate_params.<locals>.decorator.<locals>.wrapper\u001B[1;34m(*args, **kwargs)\u001B[0m\n\u001B[0;32m    185\u001B[0m global_skip_validation \u001B[38;5;241m=\u001B[39m get_config()[\u001B[38;5;124m\"\u001B[39m\u001B[38;5;124mskip_parameter_validation\u001B[39m\u001B[38;5;124m\"\u001B[39m]\n\u001B[0;32m    186\u001B[0m \u001B[38;5;28;01mif\u001B[39;00m global_skip_validation:\n\u001B[1;32m--> 187\u001B[0m     \u001B[38;5;28;01mreturn\u001B[39;00m func(\u001B[38;5;241m*\u001B[39margs, \u001B[38;5;241m*\u001B[39m\u001B[38;5;241m*\u001B[39mkwargs)\n\u001B[0;32m    189\u001B[0m func_sig \u001B[38;5;241m=\u001B[39m signature(func)\n\u001B[0;32m    191\u001B[0m \u001B[38;5;66;03m# Map *args/**kwargs to the function signature\u001B[39;00m\n",
      "File \u001B[1;32m~\\AppData\\Roaming\\Python\\Python310\\site-packages\\sklearn\\metrics\\_classification.py:1724\u001B[0m, in \u001B[0;36mprecision_recall_fscore_support\u001B[1;34m(y_true, y_pred, beta, labels, pos_label, average, warn_for, sample_weight, zero_division)\u001B[0m\n\u001B[0;32m   1566\u001B[0m \u001B[38;5;250m\u001B[39m\u001B[38;5;124;03m\"\"\"Compute precision, recall, F-measure and support for each class.\u001B[39;00m\n\u001B[0;32m   1567\u001B[0m \n\u001B[0;32m   1568\u001B[0m \u001B[38;5;124;03mThe precision is the ratio ``tp / (tp + fp)`` where ``tp`` is the number of\u001B[39;00m\n\u001B[1;32m   (...)\u001B[0m\n\u001B[0;32m   1721\u001B[0m \u001B[38;5;124;03m array([2, 2, 2]))\u001B[39;00m\n\u001B[0;32m   1722\u001B[0m \u001B[38;5;124;03m\"\"\"\u001B[39;00m\n\u001B[0;32m   1723\u001B[0m zero_division_value \u001B[38;5;241m=\u001B[39m _check_zero_division(zero_division)\n\u001B[1;32m-> 1724\u001B[0m labels \u001B[38;5;241m=\u001B[39m \u001B[43m_check_set_wise_labels\u001B[49m\u001B[43m(\u001B[49m\u001B[43my_true\u001B[49m\u001B[43m,\u001B[49m\u001B[43m \u001B[49m\u001B[43my_pred\u001B[49m\u001B[43m,\u001B[49m\u001B[43m \u001B[49m\u001B[43maverage\u001B[49m\u001B[43m,\u001B[49m\u001B[43m \u001B[49m\u001B[43mlabels\u001B[49m\u001B[43m,\u001B[49m\u001B[43m \u001B[49m\u001B[43mpos_label\u001B[49m\u001B[43m)\u001B[49m\n\u001B[0;32m   1726\u001B[0m \u001B[38;5;66;03m# Calculate tp_sum, pred_sum, true_sum ###\u001B[39;00m\n\u001B[0;32m   1727\u001B[0m samplewise \u001B[38;5;241m=\u001B[39m average \u001B[38;5;241m==\u001B[39m \u001B[38;5;124m\"\u001B[39m\u001B[38;5;124msamples\u001B[39m\u001B[38;5;124m\"\u001B[39m\n",
      "File \u001B[1;32m~\\AppData\\Roaming\\Python\\Python310\\site-packages\\sklearn\\metrics\\_classification.py:1501\u001B[0m, in \u001B[0;36m_check_set_wise_labels\u001B[1;34m(y_true, y_pred, average, labels, pos_label)\u001B[0m\n\u001B[0;32m   1498\u001B[0m \u001B[38;5;28;01mif\u001B[39;00m average \u001B[38;5;129;01mnot\u001B[39;00m \u001B[38;5;129;01min\u001B[39;00m average_options \u001B[38;5;129;01mand\u001B[39;00m average \u001B[38;5;241m!=\u001B[39m \u001B[38;5;124m\"\u001B[39m\u001B[38;5;124mbinary\u001B[39m\u001B[38;5;124m\"\u001B[39m:\n\u001B[0;32m   1499\u001B[0m     \u001B[38;5;28;01mraise\u001B[39;00m \u001B[38;5;167;01mValueError\u001B[39;00m(\u001B[38;5;124m\"\u001B[39m\u001B[38;5;124maverage has to be one of \u001B[39m\u001B[38;5;124m\"\u001B[39m \u001B[38;5;241m+\u001B[39m \u001B[38;5;28mstr\u001B[39m(average_options))\n\u001B[1;32m-> 1501\u001B[0m y_type, y_true, y_pred \u001B[38;5;241m=\u001B[39m \u001B[43m_check_targets\u001B[49m\u001B[43m(\u001B[49m\u001B[43my_true\u001B[49m\u001B[43m,\u001B[49m\u001B[43m \u001B[49m\u001B[43my_pred\u001B[49m\u001B[43m)\u001B[49m\n\u001B[0;32m   1502\u001B[0m \u001B[38;5;66;03m# Convert to Python primitive type to avoid NumPy type / Python str\u001B[39;00m\n\u001B[0;32m   1503\u001B[0m \u001B[38;5;66;03m# comparison. See https://github.com/numpy/numpy/issues/6784\u001B[39;00m\n\u001B[0;32m   1504\u001B[0m present_labels \u001B[38;5;241m=\u001B[39m unique_labels(y_true, y_pred)\u001B[38;5;241m.\u001B[39mtolist()\n",
      "File \u001B[1;32m~\\AppData\\Roaming\\Python\\Python310\\site-packages\\sklearn\\metrics\\_classification.py:104\u001B[0m, in \u001B[0;36m_check_targets\u001B[1;34m(y_true, y_pred)\u001B[0m\n\u001B[0;32m    102\u001B[0m \u001B[38;5;66;03m# No metrics support \"multiclass-multioutput\" format\u001B[39;00m\n\u001B[0;32m    103\u001B[0m \u001B[38;5;28;01mif\u001B[39;00m y_type \u001B[38;5;129;01mnot\u001B[39;00m \u001B[38;5;129;01min\u001B[39;00m [\u001B[38;5;124m\"\u001B[39m\u001B[38;5;124mbinary\u001B[39m\u001B[38;5;124m\"\u001B[39m, \u001B[38;5;124m\"\u001B[39m\u001B[38;5;124mmulticlass\u001B[39m\u001B[38;5;124m\"\u001B[39m, \u001B[38;5;124m\"\u001B[39m\u001B[38;5;124mmultilabel-indicator\u001B[39m\u001B[38;5;124m\"\u001B[39m]:\n\u001B[1;32m--> 104\u001B[0m     \u001B[38;5;28;01mraise\u001B[39;00m \u001B[38;5;167;01mValueError\u001B[39;00m(\u001B[38;5;124m\"\u001B[39m\u001B[38;5;132;01m{0}\u001B[39;00m\u001B[38;5;124m is not supported\u001B[39m\u001B[38;5;124m\"\u001B[39m\u001B[38;5;241m.\u001B[39mformat(y_type))\n\u001B[0;32m    106\u001B[0m \u001B[38;5;28;01mif\u001B[39;00m y_type \u001B[38;5;129;01min\u001B[39;00m [\u001B[38;5;124m\"\u001B[39m\u001B[38;5;124mbinary\u001B[39m\u001B[38;5;124m\"\u001B[39m, \u001B[38;5;124m\"\u001B[39m\u001B[38;5;124mmulticlass\u001B[39m\u001B[38;5;124m\"\u001B[39m]:\n\u001B[0;32m    107\u001B[0m     y_true \u001B[38;5;241m=\u001B[39m column_or_1d(y_true)\n",
      "\u001B[1;31mValueError\u001B[0m: multiclass-multioutput is not supported"
     ]
    }
   ],
   "source": [
    "svc_n_mo = MultiOutputClassifier(svc_n)\n",
    "svc_n_mo.fit(X_train_bow, y_train[rubric_columns])\n",
    "y_pred_cont = svc_n_mo.predict(X_test_bow)\n",
    "print(svc_n_mo.score(X_test_bow, y_test[rubric_columns]))\n",
    "print(f1_score(y_test[rubric_columns], y_pred_cont, average='weighted'))\n",
    "y_pred_cont"
   ],
   "metadata": {
    "id": "yqKqRUmNzB3a",
    "outputId": "fbae29c6-e7fd-4556-9f6c-37ed6270250a",
    "ExecuteTime": {
     "end_time": "2023-11-13T14:37:59.441941100Z",
     "start_time": "2023-11-13T14:37:56.923915Z"
    }
   }
  },
  {
   "cell_type": "markdown",
   "source": [
    "## Clasificación de documentos con Regresión Ridge"
   ],
   "metadata": {
    "collapsed": false
   }
  },
  {
   "cell_type": "code",
   "execution_count": 84,
   "outputs": [
    {
     "name": "stdout",
     "output_type": "stream",
     "text": [
      "0.5660377358490566\n",
      "0.5275254892769249\n"
     ]
    }
   ],
   "source": [
    "ridge = RidgeClassifier()\n",
    "ridge.fit(X_train_bow, y_train['total'])\n",
    "y_pred_r = ridge.predict(X_test_bow)\n",
    "print(accuracy_score(y_test['total'], y_pred_r))\n",
    "print(f1_score(y_test['total'], y_pred_r, average='weighted'))"
   ],
   "metadata": {
    "id": "WTDlUHWwzB3a",
    "outputId": "fa85e054-e909-4275-c010-e2f1b5b3e067",
    "ExecuteTime": {
     "end_time": "2023-11-13T14:39:01.699203700Z",
     "start_time": "2023-11-13T14:39:01.628719100Z"
    }
   }
  },
  {
   "cell_type": "code",
   "execution_count": 40,
   "outputs": [
    {
     "name": "stdout",
     "output_type": "stream",
     "text": [
      "0.1320754716981132\n"
     ]
    },
    {
     "data": {
      "text/plain": "array([[2, 1, 3, 2],\n       [3, 2, 2, 3],\n       [2, 2, 2, 2],\n       [3, 1, 2, 3],\n       [3, 3, 2, 3],\n       [3, 2, 2, 2],\n       [3, 3, 2, 3],\n       [2, 2, 2, 3],\n       [3, 3, 3, 3],\n       [3, 2, 2, 3],\n       [2, 1, 1, 3],\n       [2, 1, 2, 2],\n       [2, 3, 2, 3],\n       [2, 2, 2, 3],\n       [2, 2, 2, 3],\n       [3, 3, 1, 3],\n       [3, 1, 2, 2],\n       [2, 3, 2, 3],\n       [3, 2, 2, 3],\n       [3, 1, 1, 3],\n       [1, 2, 2, 2],\n       [1, 1, 1, 3],\n       [3, 2, 2, 3],\n       [3, 2, 2, 3],\n       [2, 1, 1, 2],\n       [3, 3, 3, 3],\n       [3, 3, 2, 3],\n       [3, 2, 2, 3],\n       [3, 3, 3, 3],\n       [2, 3, 2, 3],\n       [1, 2, 2, 2],\n       [3, 3, 2, 3],\n       [3, 3, 2, 2],\n       [3, 2, 2, 3],\n       [2, 2, 2, 2],\n       [3, 3, 2, 3],\n       [2, 3, 2, 3],\n       [3, 1, 2, 2],\n       [2, 2, 2, 3],\n       [3, 1, 2, 2],\n       [3, 3, 2, 3],\n       [3, 2, 2, 3],\n       [1, 2, 2, 2],\n       [3, 3, 2, 3],\n       [2, 3, 2, 3],\n       [2, 2, 2, 2],\n       [3, 2, 2, 3],\n       [2, 3, 2, 3],\n       [3, 3, 3, 3],\n       [2, 3, 2, 3],\n       [3, 1, 3, 2],\n       [2, 2, 2, 2],\n       [2, 2, 2, 2]], dtype=int64)"
     },
     "execution_count": 40,
     "metadata": {},
     "output_type": "execute_result"
    }
   ],
   "source": [
    "ridge_mo = MultiOutputClassifier(ridge)\n",
    "ridge_mo.fit(X_train_bow, y_train[rubric_columns])\n",
    "y_pred_cont = ridge_mo.predict(X_test_bow)\n",
    "print(ridge_mo.score(X_test_bow, y_test[rubric_columns]))\n",
    "y_pred_cont"
   ],
   "metadata": {
    "collapsed": false,
    "ExecuteTime": {
     "end_time": "2023-11-13T13:46:56.828983100Z",
     "start_time": "2023-11-13T13:46:56.698586700Z"
    }
   }
  },
  {
   "cell_type": "markdown",
   "source": [
    "## Clasificación de documentos con Regresión Logística"
   ],
   "metadata": {
    "collapsed": false
   }
  },
  {
   "cell_type": "code",
   "execution_count": 83,
   "outputs": [
    {
     "name": "stdout",
     "output_type": "stream",
     "text": [
      "0.6037735849056604\n",
      "0.5322023148882195\n"
     ]
    }
   ],
   "source": [
    "log = LogisticRegression()\n",
    "log.fit(X_train_bow, y_train['total'])\n",
    "y_pred_l = log.predict(X_test_bow)\n",
    "print(accuracy_score(y_test['total'], y_pred_l))\n",
    "print(f1_score(y_test['total'], y_pred_l, average='weighted'))"
   ],
   "metadata": {
    "id": "5hAxzAUJzB3a",
    "outputId": "1871a340-3e03-4033-95d2-2259223f59a8",
    "ExecuteTime": {
     "end_time": "2023-11-13T14:38:53.331610400Z",
     "start_time": "2023-11-13T14:38:53.215161700Z"
    }
   }
  },
  {
   "cell_type": "markdown",
   "source": [
    "## Clasificación de documentos con Random Forest"
   ],
   "metadata": {
    "collapsed": false
   }
  },
  {
   "cell_type": "code",
   "execution_count": 13,
   "outputs": [
    {
     "name": "stdout",
     "output_type": "stream",
     "text": [
      "0.6037735849056604\n"
     ]
    }
   ],
   "source": [
    "rf = RandomForestClassifier()\n",
    "rf.fit(X_train_bow, y_train['total'])\n",
    "y_pred_rf = log.predict(X_test_bow)\n",
    "print(accuracy_score(y_test['total'], y_pred_l))"
   ],
   "metadata": {
    "collapsed": false,
    "ExecuteTime": {
     "end_time": "2023-11-13T13:31:58.787004700Z",
     "start_time": "2023-11-13T13:31:58.111578400Z"
    }
   }
  },
  {
   "cell_type": "code",
   "execution_count": 75,
   "outputs": [
    {
     "name": "stdout",
     "output_type": "stream",
     "text": [
      "0.018867924528301886\n"
     ]
    },
    {
     "data": {
      "text/plain": "array([[2, 1, 2, 2, 2, 3],\n       [3, 1, 2, 1, 3, 3],\n       [3, 2, 2, 2, 3, 3],\n       [3, 1, 2, 2, 2, 3],\n       [3, 3, 2, 1, 3, 3],\n       [3, 3, 3, 2, 3, 3],\n       [3, 3, 2, 2, 3, 3],\n       [2, 2, 2, 2, 2, 3],\n       [2, 3, 2, 1, 3, 3],\n       [3, 1, 2, 1, 3, 3],\n       [2, 1, 2, 2, 3, 3],\n       [2, 3, 2, 2, 3, 3],\n       [3, 3, 2, 1, 3, 3],\n       [3, 2, 2, 2, 3, 3],\n       [2, 2, 2, 2, 3, 3],\n       [2, 1, 2, 1, 3, 3],\n       [3, 3, 2, 2, 3, 3],\n       [3, 3, 2, 1, 3, 3],\n       [3, 2, 2, 1, 3, 3],\n       [2, 1, 2, 1, 3, 3],\n       [1, 1, 2, 1, 2, 2],\n       [3, 3, 2, 2, 3, 3],\n       [3, 3, 2, 2, 3, 3],\n       [2, 3, 2, 2, 3, 2],\n       [2, 1, 2, 2, 3, 2],\n       [2, 2, 2, 1, 3, 3],\n       [3, 1, 2, 1, 3, 3],\n       [2, 3, 2, 2, 3, 3],\n       [2, 2, 3, 1, 3, 3],\n       [3, 3, 2, 2, 3, 3],\n       [3, 2, 2, 1, 3, 2],\n       [3, 2, 2, 1, 3, 3],\n       [3, 3, 2, 2, 3, 2],\n       [3, 2, 2, 1, 3, 3],\n       [2, 1, 1, 1, 3, 2],\n       [3, 3, 2, 2, 3, 3],\n       [3, 3, 2, 1, 3, 3],\n       [2, 1, 2, 2, 3, 3],\n       [2, 3, 2, 1, 3, 3],\n       [3, 1, 2, 1, 3, 3],\n       [3, 3, 2, 2, 3, 3],\n       [3, 1, 2, 2, 3, 3],\n       [2, 2, 2, 1, 3, 2],\n       [3, 3, 2, 2, 3, 3],\n       [2, 2, 2, 1, 3, 3],\n       [3, 1, 2, 1, 2, 2],\n       [3, 2, 2, 1, 2, 2],\n       [2, 1, 2, 1, 3, 3],\n       [3, 1, 2, 1, 3, 2],\n       [3, 3, 2, 1, 3, 3],\n       [3, 1, 2, 1, 3, 3],\n       [3, 3, 2, 2, 3, 3],\n       [2, 2, 2, 1, 2, 2]], dtype=int64)"
     },
     "execution_count": 75,
     "metadata": {},
     "output_type": "execute_result"
    }
   ],
   "source": [
    "rf_mo = MultiOutputClassifier(rf)\n",
    "rf_mo.fit(X_train_bow, y_train[rubric_columns])\n",
    "y_pred_cont = rf_mo.predict(X_test_bow)\n",
    "print(rf_mo.score(X_test_bow, y_test[rubric_columns]))\n",
    "y_pred_cont"
   ],
   "metadata": {
    "collapsed": false,
    "ExecuteTime": {
     "end_time": "2023-11-13T14:25:11.122720300Z",
     "start_time": "2023-11-13T14:25:07.570772600Z"
    }
   }
  },
  {
   "cell_type": "markdown",
   "source": [
    "## Clasificación de documentos con Naïve Bayes"
   ],
   "metadata": {
    "collapsed": false
   }
  },
  {
   "cell_type": "code",
   "execution_count": 16,
   "outputs": [
    {
     "name": "stdout",
     "output_type": "stream",
     "text": [
      "0.5660377358490566\n"
     ]
    }
   ],
   "source": [
    "nb = MultinomialNB()\n",
    "nb.fit(X_train_bow, y_train['total'])\n",
    "y_pred_nb = nb.predict(X_test_bow)\n",
    "print(accuracy_score(y_test['total'], y_pred_nb))"
   ],
   "metadata": {
    "collapsed": false,
    "ExecuteTime": {
     "end_time": "2023-11-13T13:33:42.643289600Z",
     "start_time": "2023-11-13T13:33:42.571578500Z"
    }
   }
  },
  {
   "cell_type": "markdown",
   "source": [
    "# Clasificación de documentos con Deep Learning"
   ],
   "metadata": {
    "collapsed": false,
    "id": "HoRgmlrbzB3b"
   }
  },
  {
   "cell_type": "markdown",
   "source": [
    "## Clasificación de documentos con Spacy"
   ],
   "metadata": {
    "collapsed": false
   }
  },
  {
   "cell_type": "code",
   "execution_count": null,
   "outputs": [],
   "source": [
    "Xn_text_labeled = text_labeled_dataset['documents']\n",
    "yn_text_labeled = text_labeled_dataset['total']\n",
    "X_text_train, X_text_test, y_text_train, y_text_test = train_test_split(Xn_text_labeled, yn_text_labeled, random_state=3, test_size=0.3)"
   ],
   "metadata": {
    "id": "HMvJNW6rzB3b",
    "ExecuteTime": {
     "start_time": "2023-11-13T13:29:54.204446200Z"
    }
   }
  },
  {
   "cell_type": "code",
   "execution_count": null,
   "outputs": [],
   "source": [
    "training_data_total = {\n",
    "  \"insatisfactorio\": [],\n",
    "  \"regular\": [],\n",
    "  \"bueno\": [],\n",
    "  \"excelente\": []\n",
    "}\n",
    "for index, document in X_text_train.items():\n",
    "  training_data_total[y_text_train[index]].append(document)\n",
    "training_data_total"
   ],
   "metadata": {
    "id": "22OHNVvlzB3b",
    "outputId": "d7606e11-05f2-4b6f-a4ff-c6c3a258c23a",
    "ExecuteTime": {
     "start_time": "2023-11-13T13:29:54.206970Z"
    }
   }
  },
  {
   "cell_type": "markdown",
   "source": [
    "https://spacy.io/universe/project/classyclassification"
   ],
   "metadata": {
    "collapsed": false,
    "id": "QOG-iZUXzB3b"
   }
  },
  {
   "cell_type": "raw",
   "source": [
    "import spacy\n",
    "from spacy_transformers import Transformer\n",
    "from spacy_transformers.pipeline_component import DEFAULT_CONFIG\n",
    "nlp = spacy.load(\"es_dep_news_trf\")\n",
    "nlp.add_pipe(\"classy_classification\",\n",
    "    config={\n",
    "        \"data\": training_data_total,\n",
    "        \"model\": \"spacy\"\n",
    "    }\n",
    ")"
   ],
   "metadata": {
    "collapsed": false,
    "id": "mlVcxih6zB3b"
   }
  },
  {
   "cell_type": "code",
   "execution_count": null,
   "outputs": [],
   "source": [
    "from classy_classification import ClassyClassifier\n",
    "classifier = ClassyClassifier(data=training_data_total)\n",
    "classifier.set_embedding_model(model=\"paraphrase-multilingual-mpnet-base-v2\")\n",
    "y_text_pred = classifier.pipe(X_text_test.tolist())"
   ],
   "metadata": {
    "id": "26ki2BbFzB3e",
    "ExecuteTime": {
     "start_time": "2023-11-13T13:29:54.208980500Z"
    }
   }
  },
  {
   "cell_type": "code",
   "execution_count": null,
   "outputs": [],
   "source": [
    "y_text_pred"
   ],
   "metadata": {
    "id": "aGs2kN8XzB3f",
    "outputId": "764f471b-2fa4-473a-9019-7aa1aecc2cc7",
    "ExecuteTime": {
     "start_time": "2023-11-13T13:29:54.213068700Z"
    }
   }
  },
  {
   "cell_type": "code",
   "execution_count": null,
   "outputs": [],
   "source": [
    "y_text_test"
   ],
   "metadata": {
    "id": "Lr7IDg0SzB3f",
    "outputId": "621c6e2a-ccd6-49d9-fadc-6c175e9eedd4",
    "ExecuteTime": {
     "start_time": "2023-11-13T13:29:54.216093800Z"
    }
   }
  },
  {
   "cell_type": "markdown",
   "source": [
    "## Clasificación de documentos con TensorFlow"
   ],
   "metadata": {
    "collapsed": false
   }
  },
  {
   "cell_type": "code",
   "execution_count": null,
   "outputs": [],
   "source": [
    "import time\n",
    "from keras.layers import Embedding, LSTM, Bidirectional, Dense\n",
    "from keras.models import Sequential\n",
    "import tensorflow as tf\n",
    "import tensorflow_text\n",
    "import tensorflow_hub as hub\n",
    "from keras import utils\n",
    "PARAGRAPH_QTY = 512\n",
    "BATCH_SIZE= 171\n",
    "labels = utils.to_categorical(dataset['total'], num_classes=4)\n"
   ],
   "metadata": {
    "collapsed": false
   }
  },
  {
   "cell_type": "markdown",
   "source": [
    "### Clasificación de documentos con Universal Sentence Encoder - Multilingual Large\n",
    "La estructura de entrada corresponde a la siguiente:\n",
    "Cada documento se encuentra almacenado como una lista de párrafos.\n",
    "Así, la entrada del modelo LSTM sería un conjunto de lotes, correspondiendo a lo"
   ],
   "metadata": {
    "collapsed": false
   }
  },
  {
   "cell_type": "code",
   "execution_count": null,
   "outputs": [],
   "source": [
    "use_embedder = hub.load(\"https://tfhub.dev/google/universal-sentence-encoder-multilingual-large/3\")"
   ],
   "metadata": {
    "id": "e51hCbTczB3f",
    "ExecuteTime": {
     "start_time": "2023-11-13T13:29:54.220628300Z"
    }
   }
  },
  {
   "cell_type": "code",
   "execution_count": null,
   "outputs": [],
   "source": [
    "time_start = time.perf_counter()\n",
    "Xn_text_embed = use_embedder(dataset['documents'])\n",
    "time_end = time.perf_counter()\n",
    "print(time_end-time_start)"
   ],
   "metadata": {
    "collapsed": false,
    "ExecuteTime": {
     "start_time": "2023-11-13T13:29:54.222626400Z"
    }
   }
  },
  {
   "cell_type": "code",
   "execution_count": null,
   "outputs": [],
   "source": [
    "model_use = Sequential()\n",
    "model_use.add(Bidirectional(LSTM(512, return_sequences=True), input_shape=(PARAGRAPH_QTY, 512)))\n",
    "model_use.add(Dense(256, activation='relu'))\n",
    "model_use.add(Dense(4, activation='softmax'))"
   ],
   "metadata": {
    "collapsed": false,
    "ExecuteTime": {
     "start_time": "2023-11-13T13:29:54.224626600Z"
    }
   }
  },
  {
   "cell_type": "code",
   "execution_count": null,
   "outputs": [],
   "source": [
    "model_use.compile(optimizer=\"adam\", loss=\"categorical_crossentropy\", metrics=[\"accuracy\", \"f1\"])\n",
    "model_use.fit(Xn_text_embed, yn, batch_size=64, validation_split=0.3, epochs=1)"
   ],
   "metadata": {
    "collapsed": false,
    "ExecuteTime": {
     "start_time": "2023-11-13T13:29:54.225625700Z"
    }
   }
  },
  {
   "cell_type": "markdown",
   "source": [
    "### Clasificación de documentos con Longformer - Spanish"
   ],
   "metadata": {
    "collapsed": false
   }
  },
  {
   "cell_type": "code",
   "execution_count": null,
   "outputs": [],
   "source": [],
   "metadata": {
    "collapsed": false,
    "ExecuteTime": {
     "start_time": "2023-11-13T13:29:54.230157100Z"
    }
   }
  },
  {
   "cell_type": "code",
   "execution_count": null,
   "outputs": [],
   "source": [],
   "metadata": {
    "collapsed": false,
    "ExecuteTime": {
     "start_time": "2023-11-13T13:29:54.232155900Z"
    }
   }
  },
  {
   "cell_type": "markdown",
   "source": [
    "### Clasificación de documentos con Tulio BERT"
   ],
   "metadata": {
    "collapsed": false
   }
  },
  {
   "cell_type": "code",
   "execution_count": null,
   "outputs": [],
   "source": [],
   "metadata": {
    "collapsed": false
   }
  },
  {
   "cell_type": "markdown",
   "source": [],
   "metadata": {
    "collapsed": false
   }
  }
 ]
}
